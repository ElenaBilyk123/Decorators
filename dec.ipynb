{
 "cells": [
  {
   "cell_type": "code",
   "execution_count": 5,
   "metadata": {},
   "outputs": [],
   "source": [
    "from datetime import datetime\n",
    "import os\n",
    "\n",
    "\n",
    "def logger(old_function):\n",
    "\n",
    "        def new_function (*args, **kwargs):\n",
    "            result = old_function(*args, **kwargs)\n",
    "            date = datetime.now()\n",
    "            name = old_function.__name__\n",
    "            sour_data = f'данные:{args} {kwargs}'\n",
    "            conclusion = f'функция {name} \\n' \\\n",
    "                          f'дата и время : {date} \\n' \\\n",
    "                          f'{sour_data} \\n' \\\n",
    "                          f'результат: {result}\\n' \\\n",
    "                          f'\\n'\n",
    "\n",
    "            with open('main.log', 'a', encoding='utf-8') as f:\n",
    "                f.write(conclusion)\n",
    "\n",
    "            return result\n",
    "\n",
    "        return new_function\n",
    "\n",
    "def test_1():\n",
    "\n",
    "    path = 'main.log'\n",
    "    if os.path.exists(path):\n",
    "        os.remove(path)\n",
    "\n",
    "    @logger\n",
    "    def hello_world():\n",
    "        return 'Hello World'\n",
    "    # print (hello_world())\n",
    "    @logger\n",
    "    def summator(a, b=0):\n",
    "        return a + b\n",
    "    # print (summator(3,3))\n",
    "    @logger\n",
    "    def div(a, b):\n",
    "        return a / b\n",
    "    # print(div(8,2))\n",
    "\n",
    "    assert 'Hello World' == hello_world(), \"Функция возвращает 'Hello World'\"\n",
    "    result = summator(2, 2)\n",
    "    assert isinstance(result, int), 'Должно вернуться целое число'\n",
    "    assert result == 4, '2 + 2 = 4'\n",
    "    result = div(6, 2)\n",
    "    assert result == 3, '6 / 2 = 3'\n",
    "    \n",
    "    assert os.path.exists(path)\n",
    "\n",
    "    summator(4.3, b=2.2)\n",
    "    summator(a=0, b=0)\n",
    "\n",
    "    with open(path) as log_file:\n",
    "        log_file_content = log_file.read()\n",
    "\n",
    "    assert 'summator' in log_file_content, 'должно записаться имя функции'\n",
    "    for item in (4.3, 2.2, 6.5):\n",
    "        assert str(item) in log_file_content, f'{item} должен быть записан в файл'\n",
    "\n",
    "\n",
    "if __name__ == '__main__':\n",
    "    test_1()"
   ]
  }
 ],
 "metadata": {
  "kernelspec": {
   "display_name": "Python 3.11.0 64-bit",
   "language": "python",
   "name": "python3"
  },
  "language_info": {
   "codemirror_mode": {
    "name": "ipython",
    "version": 3
   },
   "file_extension": ".py",
   "mimetype": "text/x-python",
   "name": "python",
   "nbconvert_exporter": "python",
   "pygments_lexer": "ipython3",
   "version": "3.11.0"
  },
  "orig_nbformat": 4,
  "vscode": {
   "interpreter": {
    "hash": "5238573367df39f7286bb46f9ff5f08f63a01a80960060ce41e3c79b190280fa"
   }
  }
 },
 "nbformat": 4,
 "nbformat_minor": 2
}
